{
 "cells": [
  {
   "cell_type": "code",
   "execution_count": null,
   "metadata": {
    "collapsed": true
   },
   "outputs": [],
   "source": [
    "import os\n",
    "import json\n",
    "import numpy as np\n",
    "import pandas as pd\n",
    "import datetime as dt\n",
    "import geohash\n",
    "import time\n",
    "\n",
    "\n",
    "from uber_rides.session import Session\n",
    "from uber_rides.client import UberRidesClient\n",
    "\n",
    "product = '65cb1829-9761-40f8-acc6-92d700fe2924'\n",
    "\n",
    "#all_points_df = pd.read_csv('selected_points1.csv')\n",
    "#all_points = all_points_df.values.tolist()\n",
    "\n",
    "session = Session(server_token='LNWgPcxsbiHlLPAHjNMqEN7BlAeyWURlqhdce6uQ')\n",
    "client = UberRidesClient(session)\n",
    "\n",
    "uber_eta_df = pd.DataFrame(columns = ['datetime', 'log', 'lat', 'neigh', 'point_hash', 'eta'])\n",
    "\n",
    "\n",
    "\n",
    "\n",
    "\n",
    "content_min_length = 50\n",
    "max_rereq = 3\n",
    "counter = 0\n",
    "for i,value in enumerate(all_points):\n",
    "        log, lat, name = value\n",
    "        \n",
    "        try:\n",
    "            wait_time = client.get_pickup_time_estimates(lat,log,product)\n",
    "            cont_len = wait_time.headers.get('Content-Length')\n",
    "        except Exception as e:\n",
    "             print e.__doc__\n",
    "             print e.message\n",
    "             cont_len = 0\n",
    "        continue\n",
    "    #print(wait_time.status_code)\n",
    "    #print(wait_time.json)\n",
    "    print(cont_len)\n",
    "    while int(cont_len) < content_min_length:\n",
    "                time.sleep(5)\n",
    "        print(\"Re-requesting...\")\n",
    "        wait_time = client.get_pickup_time_estimates(lat,log,product)\n",
    "        print(wait_time.headers.get('Content-Length'))\n",
    "        counter += 1\n",
    "        if counter >= 3:\n",
    "                    break\n",
    "                    print(\"Giving up after 3 attempts...\")\n",
    "\n",
    "    eta = wait_time.json.get('times')[0]['estimate']\n",
    " \n",
    "    uber_eta_df =  uber_eta_df.append({\n",
    "                 \"datetime\": dt.datetime.now(),\n",
    "                 \"log\": log,\n",
    "                 \"lat\": lat,\n",
    "                 \"neigh\": name,\n",
    "                 \"point_hash\": geohash.encode(lat,log),\n",
    "                #\"eta\": 0\n",
    "                 \"eta\": wait_time.json.get('times')[0]['estimate']\n",
    "                  }, ignore_index=True)\n",
    "          \n",
    "        \n",
    "uber_eta_df.to_csv('uber-eta.csv', mode='a', header=True, index=False)\n"
   ]
  },
  {
   "cell_type": "code",
   "execution_count": null,
   "metadata": {
    "collapsed": true
   },
   "outputs": [],
   "source": []
  }
 ],
 "metadata": {
  "kernelspec": {
   "display_name": "Python 3",
   "language": "python",
   "name": "python3"
  },
  "language_info": {
   "codemirror_mode": {
    "name": "ipython",
    "version": 3
   },
   "file_extension": ".py",
   "mimetype": "text/x-python",
   "name": "python",
   "nbconvert_exporter": "python",
   "pygments_lexer": "ipython3",
   "version": "3.6.1"
  }
 },
 "nbformat": 4,
 "nbformat_minor": 2
}
